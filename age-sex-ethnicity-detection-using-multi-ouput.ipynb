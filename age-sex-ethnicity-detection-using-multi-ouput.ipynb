{
 "cells": [
  {
   "cell_type": "code",
   "execution_count": 1,
   "id": "polish-shower",
   "metadata": {
    "_cell_guid": "b1076dfc-b9ad-4769-8c92-a6c4dae69d19",
    "_uuid": "8f2839f25d086af736a60e9eeb907d3b93b6e0e5",
    "execution": {
     "iopub.execute_input": "2021-05-11T11:18:39.036544Z",
     "iopub.status.busy": "2021-05-11T11:18:39.035824Z",
     "iopub.status.idle": "2021-05-11T11:18:45.826664Z",
     "shell.execute_reply": "2021-05-11T11:18:45.825945Z"
    },
    "papermill": {
     "duration": 6.81294,
     "end_time": "2021-05-11T11:18:45.826877",
     "exception": false,
     "start_time": "2021-05-11T11:18:39.013937",
     "status": "completed"
    },
    "tags": []
   },
   "outputs": [],
   "source": [
    "import tensorflow as tf\n",
    "\n",
    "import numpy as np\n",
    "import os\n",
    "from kaggle_datasets import KaggleDatasets"
   ]
  },
  {
   "cell_type": "code",
   "execution_count": 2,
   "id": "formed-purple",
   "metadata": {
    "execution": {
     "iopub.execute_input": "2021-05-11T11:18:45.923692Z",
     "iopub.status.busy": "2021-05-11T11:18:45.922815Z",
     "iopub.status.idle": "2021-05-11T11:18:52.272406Z",
     "shell.execute_reply": "2021-05-11T11:18:52.271255Z"
    },
    "papermill": {
     "duration": 6.435377,
     "end_time": "2021-05-11T11:18:52.272560",
     "exception": false,
     "start_time": "2021-05-11T11:18:45.837183",
     "status": "completed"
    },
    "tags": []
   },
   "outputs": [
    {
     "name": "stdout",
     "output_type": "stream",
     "text": [
      "Running on TPU  grpc://10.0.0.2:8470\n",
      "REPLICAS:  8\n"
     ]
    }
   ],
   "source": [
    "AUTO = tf.data.experimental.AUTOTUNE\n",
    "\n",
    "try:\n",
    "    tpu = tf.distribute.cluster_resolver.TPUClusterResolver()  \n",
    "    print('Running on TPU ', tpu.master())\n",
    "except ValueError:\n",
    "    tpu = None\n",
    "\n",
    "if tpu:\n",
    "    tf.config.experimental_connect_to_cluster(tpu)\n",
    "    tf.tpu.experimental.initialize_tpu_system(tpu)\n",
    "    strategy = tf.distribute.experimental.TPUStrategy(tpu)\n",
    "else:\n",
    "    strategy = tf.distribute.get_strategy()\n",
    "\n",
    "print(\"REPLICAS: \", strategy.num_replicas_in_sync)"
   ]
  },
  {
   "cell_type": "code",
   "execution_count": 3,
   "id": "divine-evening",
   "metadata": {
    "execution": {
     "iopub.execute_input": "2021-05-11T11:18:52.307638Z",
     "iopub.status.busy": "2021-05-11T11:18:52.300311Z",
     "iopub.status.idle": "2021-05-11T11:18:52.750347Z",
     "shell.execute_reply": "2021-05-11T11:18:52.749668Z"
    },
    "papermill": {
     "duration": 0.466849,
     "end_time": "2021-05-11T11:18:52.750498",
     "exception": false,
     "start_time": "2021-05-11T11:18:52.283649",
     "status": "completed"
    },
    "tags": []
   },
   "outputs": [
    {
     "name": "stdout",
     "output_type": "stream",
     "text": [
      "gs://kds-6d3cf3666dde7c685207ed552ff146f9f315e466366bade3da15dd2d\n"
     ]
    }
   ],
   "source": [
    "GCS_DS_PATH = KaggleDatasets().get_gcs_path(\"agedetection\")\n",
    "TRAIN_PATH = GCS_DS_PATH + \"/dataset/dataset\"\n",
    "\n",
    "HEIGHT,WIDTH = 128,128\n",
    "CHANNELS = 3\n",
    "BATCH_SIZE = 8 * strategy.num_replicas_in_sync\n",
    "SEED = 143\n",
    "\n",
    "AUTO = tf.data.experimental.AUTOTUNE\n",
    "print(GCS_DS_PATH)"
   ]
  },
  {
   "cell_type": "code",
   "execution_count": 4,
   "id": "crude-jewel",
   "metadata": {
    "execution": {
     "iopub.execute_input": "2021-05-11T11:18:52.790855Z",
     "iopub.status.busy": "2021-05-11T11:18:52.789778Z",
     "iopub.status.idle": "2021-05-11T11:18:52.792421Z",
     "shell.execute_reply": "2021-05-11T11:18:52.792896Z"
    },
    "papermill": {
     "duration": 0.030765,
     "end_time": "2021-05-11T11:18:52.793078",
     "exception": false,
     "start_time": "2021-05-11T11:18:52.762313",
     "status": "completed"
    },
    "tags": []
   },
   "outputs": [],
   "source": [
    "def process_img(filepath,label):\n",
    "    image = tf.io.read_file(filepath)\n",
    "    image = tf.image.decode_jpeg(image, channels=CHANNELS)\n",
    "    image = tf.image.convert_image_dtype(image, tf.float32) \n",
    "    image = tf.image.resize(image, [HEIGHT,WIDTH])\n",
    "    return image,label\n",
    "\n",
    "def data_augment(image, label):\n",
    "    p_spatial = tf.random.uniform([], 0, 1.0, dtype=tf.float32)\n",
    "    p_rotate = tf.random.uniform([], 0, 1.0, dtype=tf.float32)\n",
    "    p_pixel_1 = tf.random.uniform([], 0, 1.0, dtype=tf.float32)\n",
    "    p_pixel_2 = tf.random.uniform([], 0, 1.0, dtype=tf.float32)\n",
    "    p_pixel_3 = tf.random.uniform([], 0, 1.0, dtype=tf.float32)\n",
    "    p_crop = tf.random.uniform([], 0, 1.0, dtype=tf.float32)\n",
    "            \n",
    "    # Flips\n",
    "    image = tf.image.random_flip_left_right(image)\n",
    "    image = tf.image.random_flip_up_down(image)\n",
    "    if p_spatial > .75:\n",
    "        image = tf.image.transpose(image)\n",
    "        \n",
    "    # Rotates\n",
    "    if p_rotate > .75:\n",
    "        image = tf.image.rot90(image, k=3) \n",
    "    elif p_rotate > .5:\n",
    "        image = tf.image.rot90(image, k=2) \n",
    "    elif p_rotate > .25:\n",
    "        image = tf.image.rot90(image, k=1) \n",
    "        \n",
    "    \n",
    "    if p_pixel_1 >= .4:\n",
    "        image = tf.image.random_saturation(image, lower=.7, upper=1.3)\n",
    "    if p_pixel_2 >= .4:\n",
    "        image = tf.image.random_contrast(image, lower=.8, upper=1.2)\n",
    "    if p_pixel_3 >= .4:\n",
    "        image = tf.image.random_brightness(image, max_delta=.1)\n",
    "        \n",
    "    \n",
    "    if p_crop > .7:\n",
    "        if p_crop > .9:\n",
    "            image = tf.image.central_crop(image, central_fraction=.7)\n",
    "        elif p_crop > .8:\n",
    "            image = tf.image.central_crop(image, central_fraction=.8)\n",
    "        else:\n",
    "            image = tf.image.central_crop(image, central_fraction=.9)\n",
    "    elif p_crop > .4:\n",
    "        crop_size = tf.random.uniform([], int(HEIGHT*.8), HEIGHT, dtype=tf.int32)\n",
    "        image = tf.image.random_crop(image, size=[crop_size, crop_size, CHANNELS])\n",
    "    \n",
    "    image = tf.image.resize(image, [HEIGHT,WIDTH])\n",
    "    return image,label"
   ]
  },
  {
   "cell_type": "code",
   "execution_count": 5,
   "id": "pointed-groove",
   "metadata": {
    "execution": {
     "iopub.execute_input": "2021-05-11T11:18:52.827503Z",
     "iopub.status.busy": "2021-05-11T11:18:52.826772Z",
     "iopub.status.idle": "2021-05-11T11:18:56.290695Z",
     "shell.execute_reply": "2021-05-11T11:18:56.289968Z"
    },
    "papermill": {
     "duration": 3.487178,
     "end_time": "2021-05-11T11:18:56.290863",
     "exception": false,
     "start_time": "2021-05-11T11:18:52.803685",
     "status": "completed"
    },
    "tags": []
   },
   "outputs": [],
   "source": [
    "files_ls = tf.io.gfile.glob(TRAIN_PATH + '/*.jpg')\n",
    "filenames = [name.split(\"/\")[-1] for name in files_ls]\n",
    "\n",
    "age_label = np.array(tf.one_hot([int(name.split(\"_\")[0])//10 for name in filenames],depth=12))\n",
    "gender_label = np.array(tf.one_hot([int(name.split(\"_\")[1]) for name in filenames],depth=2))\n",
    "ethnicity_label = np.array(tf.one_hot([int(name.split(\"_\")[2]) for name in filenames],depth=5))\n",
    "\n",
    "labels = np.concatenate((age_label,gender_label,ethnicity_label),axis=1)\n",
    "\n",
    "dataset = tf.data.Dataset.from_tensor_slices((files_ls,labels))\n",
    "dataset = dataset.map(process_img,num_parallel_calls=AUTO).prefetch(AUTO)\n",
    "dataset = dataset.map(data_augment,num_parallel_calls=AUTO).prefetch(AUTO)\n",
    "\n",
    "SPLIT = int(0.8*len(files_ls))\n",
    "train_ds = dataset.take(SPLIT)\n",
    "val_ds = dataset.skip(SPLIT)\n",
    "\n",
    "train_ds = train_ds.cache().repeat().shuffle(2048).batch(BATCH_SIZE).prefetch(AUTO)\n",
    "val_ds = val_ds.cache().repeat().batch(BATCH_SIZE).prefetch(AUTO)\n",
    "\n",
    "STEPS_PER_EPOCH  = SPLIT//BATCH_SIZE\n",
    "VALID_STEPS = (len(files_ls)-SPLIT)//BATCH_SIZE"
   ]
  },
  {
   "cell_type": "code",
   "execution_count": 6,
   "id": "precise-peripheral",
   "metadata": {
    "execution": {
     "iopub.execute_input": "2021-05-11T11:18:56.323914Z",
     "iopub.status.busy": "2021-05-11T11:18:56.322910Z",
     "iopub.status.idle": "2021-05-11T11:18:58.929018Z",
     "shell.execute_reply": "2021-05-11T11:18:58.928463Z"
    },
    "papermill": {
     "duration": 2.627672,
     "end_time": "2021-05-11T11:18:58.929167",
     "exception": false,
     "start_time": "2021-05-11T11:18:56.301495",
     "status": "completed"
    },
    "tags": []
   },
   "outputs": [
    {
     "name": "stdout",
     "output_type": "stream",
     "text": [
      "Downloading data from https://storage.googleapis.com/tensorflow/keras-applications/mobilenet_v2/mobilenet_v2_weights_tf_dim_ordering_tf_kernels_1.0_128_no_top.h5\n",
      "9412608/9406464 [==============================] - 0s 0us/step\n",
      "Model: \"model\"\n",
      "_________________________________________________________________\n",
      "Layer (type)                 Output Shape              Param #   \n",
      "=================================================================\n",
      "input_2 (InputLayer)         [(None, 128, 128, 3)]     0         \n",
      "_________________________________________________________________\n",
      "mobilenetv2_1.00_128 (Functi (None, 4, 4, 1280)        2257984   \n",
      "_________________________________________________________________\n",
      "global_average_pooling2d (Gl (None, 1280)              0         \n",
      "_________________________________________________________________\n",
      "dense (Dense)                (None, 19)                24339     \n",
      "=================================================================\n",
      "Total params: 2,282,323\n",
      "Trainable params: 2,248,211\n",
      "Non-trainable params: 34,112\n",
      "_________________________________________________________________\n"
     ]
    }
   ],
   "source": [
    "def create_model():\n",
    "    \n",
    "    pretrained = tf.keras.applications.MobileNetV2(include_top=False,weights=\"imagenet\",input_shape = (HEIGHT,WIDTH,CHANNELS))\n",
    "    \n",
    "    inputs = tf.keras.Input(shape = (HEIGHT,WIDTH,CHANNELS))\n",
    "    x = pretrained(inputs)\n",
    "    x = tf.keras.layers.GlobalAveragePooling2D()(x)\n",
    "    \n",
    "    outputs = tf.keras.layers.Dense(19,activation=\"sigmoid\")(x)\n",
    "\n",
    "    \n",
    "    model = tf.keras.Model(inputs,outputs)\n",
    "    return model\n",
    "\n",
    "model = create_model()\n",
    "model.summary()"
   ]
  },
  {
   "cell_type": "code",
   "execution_count": 7,
   "id": "utility-occurrence",
   "metadata": {
    "execution": {
     "iopub.execute_input": "2021-05-11T11:18:58.961962Z",
     "iopub.status.busy": "2021-05-11T11:18:58.961229Z",
     "iopub.status.idle": "2021-05-11T11:18:58.965925Z",
     "shell.execute_reply": "2021-05-11T11:18:58.965313Z"
    },
    "papermill": {
     "duration": 0.023204,
     "end_time": "2021-05-11T11:18:58.966130",
     "exception": false,
     "start_time": "2021-05-11T11:18:58.942926",
     "status": "completed"
    },
    "tags": []
   },
   "outputs": [],
   "source": [
    "def compile_model(model, lr=0.001):\n",
    "    \n",
    "    optimizer = tf.keras.optimizers.Adam(lr=lr)\n",
    "    \n",
    "    loss = tf.keras.losses.BinaryCrossentropy()\n",
    "    metrics = [\n",
    "        tf.keras.metrics.BinaryAccuracy(name='acc')\n",
    "    ]\n",
    "\n",
    "    model.compile(optimizer=optimizer, loss=loss, metrics=metrics)\n",
    "\n",
    "    return model"
   ]
  },
  {
   "cell_type": "code",
   "execution_count": 8,
   "id": "further-dayton",
   "metadata": {
    "execution": {
     "iopub.execute_input": "2021-05-11T11:18:58.995324Z",
     "iopub.status.busy": "2021-05-11T11:18:58.994601Z",
     "iopub.status.idle": "2021-05-11T11:18:59.001336Z",
     "shell.execute_reply": "2021-05-11T11:18:59.001810Z"
    },
    "papermill": {
     "duration": 0.023063,
     "end_time": "2021-05-11T11:18:59.001990",
     "exception": false,
     "start_time": "2021-05-11T11:18:58.978927",
     "status": "completed"
    },
    "tags": []
   },
   "outputs": [],
   "source": [
    "def create_callbacks():\n",
    "    checkpoint = tf.keras.callbacks.ModelCheckpoint(\n",
    "        filepath=\"./best_model.h5\",\n",
    "        save_weights_only=False,\n",
    "        monitor='val_acc',\n",
    "        mode='max',\n",
    "        save_best_only=True,\n",
    "        save_freq='epoch',\n",
    "        verbose = 1\n",
    "    )\n",
    "    \n",
    "    reducelr = tf.keras.callbacks.ReduceLROnPlateau(\n",
    "        monitor= 'val_acc',\n",
    "        mode='max',\n",
    "        factor=0.5,\n",
    "        patience=3,\n",
    "        verbose=1\n",
    "    )\n",
    "\n",
    "    earlystop = tf.keras.callbacks.EarlyStopping(\n",
    "        monitor= 'val_acc',\n",
    "        mode='max',\n",
    "        patience=10, \n",
    "        verbose=1\n",
    "    )\n",
    "    \n",
    "    callbacks = [checkpoint, reducelr, earlystop]\n",
    "    return callbacks"
   ]
  },
  {
   "cell_type": "code",
   "execution_count": 9,
   "id": "after-hamburg",
   "metadata": {
    "execution": {
     "iopub.execute_input": "2021-05-11T11:18:59.031930Z",
     "iopub.status.busy": "2021-05-11T11:18:59.031273Z",
     "iopub.status.idle": "2021-05-11T11:44:42.128818Z",
     "shell.execute_reply": "2021-05-11T11:44:42.128126Z"
    },
    "papermill": {
     "duration": 1543.113422,
     "end_time": "2021-05-11T11:44:42.128977",
     "exception": false,
     "start_time": "2021-05-11T11:18:59.015555",
     "status": "completed"
    },
    "tags": []
   },
   "outputs": [
    {
     "name": "stdout",
     "output_type": "stream",
     "text": [
      "Epoch 1/40\n",
      "296/296 [==============================] - 1364s 4s/step - loss: 0.2430 - acc: 0.8909 - val_loss: 1.5170 - val_acc: 0.8798\n",
      "\n",
      "Epoch 00001: val_acc improved from -inf to 0.87980, saving model to ./best_model.h5\n",
      "Epoch 2/40\n",
      "296/296 [==============================] - 11s 37ms/step - loss: 0.1890 - acc: 0.9217 - val_loss: 1.9510 - val_acc: 0.8421\n",
      "\n",
      "Epoch 00002: val_acc did not improve from 0.87980\n",
      "Epoch 3/40\n",
      "296/296 [==============================] - 11s 36ms/step - loss: 0.1725 - acc: 0.9301 - val_loss: 1.6752 - val_acc: 0.8184\n",
      "\n",
      "Epoch 00003: val_acc did not improve from 0.87980\n",
      "Epoch 4/40\n",
      "296/296 [==============================] - 11s 37ms/step - loss: 0.1626 - acc: 0.9340 - val_loss: 1.6726 - val_acc: 0.8590\n",
      "\n",
      "Epoch 00004: val_acc did not improve from 0.87980\n",
      "\n",
      "Epoch 00004: ReduceLROnPlateau reducing learning rate to 0.0005000000237487257.\n",
      "Epoch 5/40\n",
      "296/296 [==============================] - 11s 37ms/step - loss: 0.1466 - acc: 0.9417 - val_loss: 0.9702 - val_acc: 0.8870\n",
      "\n",
      "Epoch 00005: val_acc improved from 0.87980 to 0.88705, saving model to ./best_model.h5\n",
      "Epoch 6/40\n",
      "296/296 [==============================] - 11s 37ms/step - loss: 0.1321 - acc: 0.9481 - val_loss: 0.9197 - val_acc: 0.8927\n",
      "\n",
      "Epoch 00006: val_acc improved from 0.88705 to 0.89269, saving model to ./best_model.h5\n",
      "Epoch 7/40\n",
      "296/296 [==============================] - 11s 37ms/step - loss: 0.1235 - acc: 0.9512 - val_loss: 0.9451 - val_acc: 0.8920\n",
      "\n",
      "Epoch 00007: val_acc did not improve from 0.89269\n",
      "Epoch 8/40\n",
      "296/296 [==============================] - 11s 36ms/step - loss: 0.1178 - acc: 0.9540 - val_loss: 0.8663 - val_acc: 0.8877\n",
      "\n",
      "Epoch 00008: val_acc did not improve from 0.89269\n",
      "Epoch 9/40\n",
      "296/296 [==============================] - 11s 36ms/step - loss: 0.1097 - acc: 0.9574 - val_loss: 0.6429 - val_acc: 0.8879\n",
      "\n",
      "Epoch 00009: val_acc did not improve from 0.89269\n",
      "\n",
      "Epoch 00009: ReduceLROnPlateau reducing learning rate to 0.0002500000118743628.\n",
      "Epoch 10/40\n",
      "296/296 [==============================] - 11s 36ms/step - loss: 0.1003 - acc: 0.9616 - val_loss: 0.6137 - val_acc: 0.8817\n",
      "\n",
      "Epoch 00010: val_acc did not improve from 0.89269\n",
      "Epoch 11/40\n",
      "296/296 [==============================] - 10s 35ms/step - loss: 0.0873 - acc: 0.9673 - val_loss: 0.5914 - val_acc: 0.8828\n",
      "\n",
      "Epoch 00011: val_acc did not improve from 0.89269\n",
      "Epoch 12/40\n",
      "296/296 [==============================] - 11s 36ms/step - loss: 0.0802 - acc: 0.9698 - val_loss: 0.5962 - val_acc: 0.8897\n",
      "\n",
      "Epoch 00012: val_acc did not improve from 0.89269\n",
      "\n",
      "Epoch 00012: ReduceLROnPlateau reducing learning rate to 0.0001250000059371814.\n",
      "Epoch 13/40\n",
      "296/296 [==============================] - 11s 36ms/step - loss: 0.0789 - acc: 0.9699 - val_loss: 0.6462 - val_acc: 0.8814\n",
      "\n",
      "Epoch 00013: val_acc did not improve from 0.89269\n",
      "Epoch 14/40\n",
      "296/296 [==============================] - 11s 36ms/step - loss: 0.0732 - acc: 0.9719 - val_loss: 0.6665 - val_acc: 0.8861\n",
      "\n",
      "Epoch 00014: val_acc did not improve from 0.89269\n",
      "Epoch 15/40\n",
      "296/296 [==============================] - 11s 37ms/step - loss: 0.0702 - acc: 0.9728 - val_loss: 0.6536 - val_acc: 0.8872\n",
      "\n",
      "Epoch 00015: val_acc did not improve from 0.89269\n",
      "\n",
      "Epoch 00015: ReduceLROnPlateau reducing learning rate to 6.25000029685907e-05.\n",
      "Epoch 16/40\n",
      "296/296 [==============================] - 11s 36ms/step - loss: 0.0761 - acc: 0.9689 - val_loss: 0.6088 - val_acc: 0.8898\n",
      "\n",
      "Epoch 00016: val_acc did not improve from 0.89269\n",
      "Epoch 00016: early stopping\n"
     ]
    }
   ],
   "source": [
    "EPOCHS= 40\n",
    "VERBOSE =1\n",
    "\n",
    "tf.keras.backend.clear_session()\n",
    "\n",
    "with strategy.scope():\n",
    "    \n",
    "    model = create_model()\n",
    "    model = compile_model(model, lr=0.001)\n",
    "   \n",
    "    callbacks = create_callbacks()\n",
    "    \n",
    "    history = model.fit(\n",
    "                        train_ds,\n",
    "                        epochs=EPOCHS,\n",
    "                        callbacks=callbacks,\n",
    "                        validation_data = val_ds,\n",
    "                        verbose=VERBOSE,\n",
    "                        steps_per_epoch = STEPS_PER_EPOCH,\n",
    "                        validation_steps=VALID_STEPS\n",
    "                       )"
   ]
  },
  {
   "cell_type": "code",
   "execution_count": 10,
   "id": "distinct-insert",
   "metadata": {
    "execution": {
     "iopub.execute_input": "2021-05-11T11:44:43.795613Z",
     "iopub.status.busy": "2021-05-11T11:44:43.794897Z",
     "iopub.status.idle": "2021-05-11T11:44:53.209324Z",
     "shell.execute_reply": "2021-05-11T11:44:53.208740Z"
    },
    "papermill": {
     "duration": 10.2758,
     "end_time": "2021-05-11T11:44:53.209477",
     "exception": false,
     "start_time": "2021-05-11T11:44:42.933677",
     "status": "completed"
    },
    "tags": []
   },
   "outputs": [
    {
     "name": "stdout",
     "output_type": "stream",
     "text": [
      "Collecting mtcnn\r\n",
      "  Downloading mtcnn-0.1.0-py3-none-any.whl (2.3 MB)\r\n",
      "\u001b[K     |████████████████████████████████| 2.3 MB 2.9 MB/s \r\n",
      "\u001b[?25hRequirement already satisfied: keras>=2.0.0 in /opt/conda/lib/python3.7/site-packages (from mtcnn) (2.4.3)\r\n",
      "Requirement already satisfied: opencv-python>=4.1.0 in /opt/conda/lib/python3.7/site-packages (from mtcnn) (4.5.1.48)\r\n",
      "Requirement already satisfied: h5py in /opt/conda/lib/python3.7/site-packages (from keras>=2.0.0->mtcnn) (2.10.0)\r\n",
      "Requirement already satisfied: pyyaml in /opt/conda/lib/python3.7/site-packages (from keras>=2.0.0->mtcnn) (5.3.1)\r\n",
      "Requirement already satisfied: numpy>=1.9.1 in /opt/conda/lib/python3.7/site-packages (from keras>=2.0.0->mtcnn) (1.19.5)\r\n",
      "Requirement already satisfied: scipy>=0.14 in /opt/conda/lib/python3.7/site-packages (from keras>=2.0.0->mtcnn) (1.5.4)\r\n",
      "Requirement already satisfied: six in /opt/conda/lib/python3.7/site-packages (from h5py->keras>=2.0.0->mtcnn) (1.15.0)\r\n",
      "Installing collected packages: mtcnn\r\n",
      "Successfully installed mtcnn-0.1.0\r\n"
     ]
    }
   ],
   "source": [
    "!pip install mtcnn"
   ]
  },
  {
   "cell_type": "code",
   "execution_count": 11,
   "id": "dominican-messenger",
   "metadata": {
    "execution": {
     "iopub.execute_input": "2021-05-11T11:44:54.820230Z",
     "iopub.status.busy": "2021-05-11T11:44:54.819519Z",
     "iopub.status.idle": "2021-05-11T11:45:00.484275Z",
     "shell.execute_reply": "2021-05-11T11:45:00.484737Z"
    },
    "papermill": {
     "duration": 6.475245,
     "end_time": "2021-05-11T11:45:00.484933",
     "exception": false,
     "start_time": "2021-05-11T11:44:54.009688",
     "status": "completed"
    },
    "tags": []
   },
   "outputs": [
    {
     "name": "stdout",
     "output_type": "stream",
     "text": [
      "Age is between 21 and 30\n",
      "Gender is Male\n",
      "Ethnicity is Black\n"
     ]
    },
    {
     "data": {
      "image/png": "[encoded data removed]",
      "text/plain": [
       "<Figure size 432x288 with 1 Axes>"
      ]
     },
     "metadata": {
      "needs_background": "light"
     },
     "output_type": "display_data"
    }
   ],
   "source": [
    "from mtcnn import MTCNN\n",
    "import matplotlib.pyplot as plt\n",
    "\n",
    "TEST_PATH = \"../input/agedetection/predict.jpg\"\n",
    "\n",
    "gender_dict={\n",
    "    0:\"Male\",\n",
    "    1:\"Female\"\n",
    "}\n",
    "\n",
    "ethnicity_dict = {\n",
    "  0:\"White\",\n",
    "  1:\"Black\",\n",
    "  2:\"Asian\",\n",
    "  3:\"Indian\",\n",
    "  4:\"Others\"\n",
    "}\n",
    "\n",
    "img = tf.keras.preprocessing.image.load_img(TEST_PATH,target_size=(HEIGHT,WIDTH))\n",
    "img = tf.keras.preprocessing.image.img_to_array(img)\n",
    "\n",
    "detector = MTCNN()\n",
    "results = detector.detect_faces(img)\n",
    "\n",
    "if len(results) == 0:\n",
    "    print(\"No Face Detected, Try again\")\n",
    "else:\n",
    "    x, y, width, height = results[0]['box']\n",
    "    face = img[y:y+height, x:x+width]\n",
    "    face = tf.image.resize(face, [HEIGHT,WIDTH])\n",
    "    face = tf.expand_dims(face,0)\n",
    "    pred = model.predict(face)\n",
    "    age = np.argmax(pred[0][:11])\n",
    "    print(f\"Age is between {age*10+1} and {age*10+10}\")\n",
    "    gender = gender_dict[np.argmax(pred[0][12:14])]\n",
    "    print(f\"Gender is {gender}\")\n",
    "    ethnicity = ethnicity_dict[np.argmax(pred[0][14:])]\n",
    "    print(f\"Ethnicity is {ethnicity}\")\n",
    "    \n",
    "plt.imshow(face[0]/255.)\n",
    "plt.axis(\"off\")\n",
    "plt.title(\"Cropped Image\")\n",
    "plt.show()"
   ]
  }
 ],
 "metadata": {
  "kernelspec": {
   "display_name": "Python 3",
   "language": "python",
   "name": "python3"
  },
  "language_info": {
   "codemirror_mode": {
    "name": "ipython",
    "version": 3
   },
   "file_extension": ".py",
   "mimetype": "text/x-python",
   "name": "python",
   "nbconvert_exporter": "python",
   "pygments_lexer": "ipython3",
   "version": "3.7.10"
  },
  "papermill": {
   "default_parameters": {},
   "duration": 1594.517018,
   "end_time": "2021-05-11T11:45:04.430983",
   "environment_variables": {},
   "exception": null,
   "input_path": "__notebook__.ipynb",
   "output_path": "__notebook__.ipynb",
   "parameters": {},
   "start_time": "2021-05-11T11:18:29.913965",
   "version": "2.3.3"
  }
 },
 "nbformat": 4,
 "nbformat_minor": 5
}
